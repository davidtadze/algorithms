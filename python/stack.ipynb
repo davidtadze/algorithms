{
 "cells": [
  {
   "cell_type": "code",
   "execution_count": 4,
   "metadata": {},
   "outputs": [],
   "source": [
    "%load_ext pycodestyle_magic"
   ]
  },
  {
   "cell_type": "code",
   "execution_count": 6,
   "metadata": {},
   "outputs": [],
   "source": [
    "%%pycodestyle\n",
    "class Empty(Exception):\n",
    "    pass"
   ]
  },
  {
   "cell_type": "code",
   "execution_count": 13,
   "metadata": {},
   "outputs": [
    {
     "name": "stderr",
     "output_type": "stream",
     "text": [
      "19:1: W391 blank line at end of file\n"
     ]
    }
   ],
   "source": [
    "%%pycodestyle\n",
    "class Stack:\n",
    "    def __init__(self):\n",
    "        self._array = []\n",
    "\n",
    "    def __init__(self, elements):\n",
    "        self._array = elements\n",
    "\n",
    "    def push(self, element):\n",
    "        self._array.append(element)\n",
    "\n",
    "    def pop(self):\n",
    "        if self.is_empty():\n",
    "            raise Empty('stack is empty')\n",
    "        return self._array.pop()\n",
    "\n",
    "    def is_empty(self):\n",
    "        return not self._array"
   ]
  }
 ],
 "metadata": {
  "kernelspec": {
   "display_name": "Python 3",
   "language": "python",
   "name": "python3"
  },
  "language_info": {
   "codemirror_mode": {
    "name": "ipython",
    "version": 3
   },
   "file_extension": ".py",
   "mimetype": "text/x-python",
   "name": "python",
   "nbconvert_exporter": "python",
   "pygments_lexer": "ipython3",
   "version": "3.8.5"
  }
 },
 "nbformat": 4,
 "nbformat_minor": 4
}
